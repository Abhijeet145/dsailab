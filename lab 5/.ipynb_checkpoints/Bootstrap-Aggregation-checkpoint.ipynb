{
 "cells": [
  {
   "cell_type": "code",
   "execution_count": 5,
   "id": "3499e1ce-9764-4b9c-80a3-a71f07d07b35",
   "metadata": {},
   "outputs": [],
   "source": [
    "import pandas as pd\n",
    "from sklearn.model_selection import train_test_split\n",
    "from sklearn.preprocessing import LabelEncoder\n",
    "from sklearn.naive_bayes import GaussianNB\n",
    "from sklearn.ensemble import BaggingClassifier\n",
    "from sklearn.metrics import accuracy_score\n",
    "from sklearn.impute import SimpleImputer"
   ]
  },
  {
   "cell_type": "code",
   "execution_count": 6,
   "id": "ca43f85c-013f-45bd-b00c-1a460e1f98b1",
   "metadata": {},
   "outputs": [],
   "source": [
    "# Load the Adult Income dataset\n",
    "column_names = [\n",
    "    'Age', 'Workclass', 'fnlwgt', 'Education', 'Education-Num', 'Marital-Status', \n",
    "    'Occupation', 'Relationship', 'Race', 'Sex', 'Capital-Gain', 'Capital-Loss', \n",
    "    'Hours-per-week', 'Native-Country', 'Income'\n",
    "]\n",
    "\n",
    "df = pd.read_csv(\"./Dataset/adult.csv\")\n",
    "\n",
    "# Preprocess the dataset\n",
    "\n",
    "# Handle missing values by imputing with the most frequent value\n",
    "imputer = SimpleImputer(strategy='most_frequent')\n",
    "df = pd.DataFrame(imputer.fit_transform(df), columns=df.columns)\n",
    "\n",
    "# Encode categorical features using Label Encoding\n",
    "label_encoder = LabelEncoder()\n",
    "\n",
    "# Encoding columns that need it: 'Workclass', 'Education', 'Marital-Status', 'Occupation', 'Relationship', 'Race', 'Sex', 'Native-Country', 'Income'\n",
    "categorical_columns = ['Workclass', 'Education', 'Marital-Status', 'Occupation', 'Relationship', \n",
    "                       'Race', 'Sex', 'Native-Country', 'Income']\n",
    "\n",
    "for col in categorical_columns:\n",
    "    df[col] = label_encoder.fit_transform(df[col])\n",
    "\n",
    "# Split data into features and target\n",
    "X = df.drop(columns=['Income'])\n",
    "y = df['Income']\n",
    "\n",
    "# Split the dataset into training and test sets\n",
    "X_train, X_test, y_train, y_test = train_test_split(X, y, test_size=0.2, random_state=42)"
   ]
  },
  {
   "cell_type": "code",
   "execution_count": 7,
   "id": "ab7a6d07-eb75-4791-8532-7c73ffe3ee70",
   "metadata": {},
   "outputs": [
    {
     "name": "stdout",
     "output_type": "stream",
     "text": [
      "Accuracy: 79.93%\n"
     ]
    }
   ],
   "source": [
    "# Initialize the Naive Bayes classifier\n",
    "nb_model = GaussianNB()\n",
    "\n",
    "# Initialize the BaggingClassifier using the Naive Bayes model\n",
    "bagging_model = BaggingClassifier(estimator=nb_model, n_estimators=50, random_state=42)\n",
    "\n",
    "# Fit the model to the training data\n",
    "bagging_model.fit(X_train, y_train)\n",
    "\n",
    "# Predict on the test set\n",
    "y_pred = bagging_model.predict(X_test)\n",
    "\n",
    "# Calculate the accuracy\n",
    "accuracy = accuracy_score(y_test, y_pred)\n",
    "print(f'Accuracy: {accuracy * 100:.2f}%')"
   ]
  },
  {
   "cell_type": "code",
   "execution_count": null,
   "id": "9cf40d3c-af69-4676-be63-a12ba8fd0ebe",
   "metadata": {},
   "outputs": [],
   "source": []
  }
 ],
 "metadata": {
  "kernelspec": {
   "display_name": "Python 3 (ipykernel)",
   "language": "python",
   "name": "python3"
  },
  "language_info": {
   "codemirror_mode": {
    "name": "ipython",
    "version": 3
   },
   "file_extension": ".py",
   "mimetype": "text/x-python",
   "name": "python",
   "nbconvert_exporter": "python",
   "pygments_lexer": "ipython3",
   "version": "3.10.12"
  }
 },
 "nbformat": 4,
 "nbformat_minor": 5
}
