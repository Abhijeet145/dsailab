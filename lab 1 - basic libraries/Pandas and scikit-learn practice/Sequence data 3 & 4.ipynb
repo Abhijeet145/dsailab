{
 "cells": [
  {
   "cell_type": "code",
   "execution_count": null,
   "id": "40499c4c",
   "metadata": {},
   "outputs": [],
   "source": [
    "print (strSample)\n",
    "strSample[slice (1,4,2)]"
   ]
  },
  {
   "cell_type": "code",
   "execution_count": null,
   "id": "ef825168",
   "metadata": {},
   "outputs": [],
   "source": [
    "strSample[:]"
   ]
  },
  {
   "cell_type": "code",
   "execution_count": null,
   "id": "b83f9436",
   "metadata": {},
   "outputs": [],
   "source": [
    "print(lstrSample)\n",
    "print(lstrSample[:3])\n",
    "print(lstrSample[2:])"
   ]
  },
  {
   "cell_type": "code",
   "execution_count": null,
   "id": "4fb5f0e2",
   "metadata": {},
   "outputs": [],
   "source": [
    "lstsample[2:4]"
   ]
  },
  {
   "cell_type": "code",
   "execution_count": null,
   "id": "fd32e293",
   "metadata": {},
   "outputs": [],
   "source": [
    "dictSample[1:'second']     #typeerror: unhashable type 'slice'"
   ]
  },
  {
   "cell_type": "code",
   "execution_count": null,
   "id": "43b23ef3",
   "metadata": {},
   "outputs": [],
   "source": [
    "setSample[1:2]   #typeerror: 'set' object is not defined"
   ]
  },
  {
   "cell_type": "code",
   "execution_count": null,
   "id": "e7ab2f4f",
   "metadata": {},
   "outputs": [],
   "source": [
    "for x in arrSample: print(x)\n",
    "arrSample[1:] "
   ]
  },
  {
   "cell_type": "code",
   "execution_count": null,
   "id": "01e7c022",
   "metadata": {},
   "outputs": [],
   "source": [
    "arrSample[1:-1]"
   ]
  },
  {
   "cell_type": "code",
   "execution_count": null,
   "id": "6a598b20",
   "metadata": {},
   "outputs": [],
   "source": [
    "for x in rangeSample: print(x)\n",
    "    print(rangeSample[:-1])"
   ]
  },
  {
   "cell_type": "markdown",
   "id": "03a44c63",
   "metadata": {},
   "source": [
    "# Sequence data operations: Concatenation"
   ]
  },
  {
   "cell_type": "code",
   "execution_count": null,
   "id": "c5ff4950",
   "metadata": {},
   "outputs": [],
   "source": [
    "print(strSample+' ','python')\n",
    "print(strSample)\n",
    "newString = strSample+' ','python'\n",
    "print(newstrirg)"
   ]
  },
  {
   "cell_type": "code",
   "execution_count": null,
   "id": "9be8f655",
   "metadata": {},
   "outputs": [],
   "source": [
    "print(lstSample)\n",
    "lstSample+['py']"
   ]
  },
  {
   "cell_type": "code",
   "execution_count": null,
   "id": "7cbae4bd",
   "metadata": {},
   "outputs": [],
   "source": [
    "print (arrSample)\n",
    "arrSample+[50, 60]      # typeError: can only append array (not \"list\") to array"
   ]
  },
  {
   "cell_type": "code",
   "execution_count": null,
   "id": "73922884",
   "metadata": {},
   "outputs": [],
   "source": [
    "arrSample+array('i',[50,60])"
   ]
  },
  {
   "cell_type": "code",
   "execution_count": null,
   "id": "720901c4",
   "metadata": {},
   "outputs": [],
   "source": [
    "tupSample+=('th','on')\n",
    "print (tupSample)"
   ]
  },
  {
   "cell_type": "code",
   "execution_count": null,
   "id": "1147ace6",
   "metadata": {},
   "outputs": [],
   "source": [
    "print (setSamp1e)\n",
    "setSample=setSample,24\n",
    "print(setSample)"
   ]
  },
  {
   "cell_type": "markdown",
   "id": "1b9c7fe5",
   "metadata": {},
   "source": [
    "# Sequence data operations: Multiplication"
   ]
  },
  {
   "cell_type": "code",
   "execution_count": null,
   "id": "af08d3af",
   "metadata": {},
   "outputs": [],
   "source": [
    "strSample*=3\n",
    "print(strsample)"
   ]
  },
  {
   "cell_type": "code",
   "execution_count": null,
   "id": "35239ba6",
   "metadata": {},
   "outputs": [],
   "source": [
    "lstSample*2 "
   ]
  },
  {
   "cell_type": "code",
   "execution_count": null,
   "id": "de991bd3",
   "metadata": {},
   "outputs": [],
   "source": [
    "lstSample[2]*=2\n",
    "print(lstsample)"
   ]
  },
  {
   "cell_type": "code",
   "execution_count": null,
   "id": "40110609",
   "metadata": {},
   "outputs": [],
   "source": [
    "lstSample[2]*2"
   ]
  },
  {
   "cell_type": "code",
   "execution_count": null,
   "id": "186ccba7",
   "metadata": {},
   "outputs": [],
   "source": [
    "print(tupSample)\n",
    "tupSample[2:4]*2"
   ]
  },
  {
   "cell_type": "code",
   "execution_count": null,
   "id": "6cc1b334",
   "metadata": {},
   "outputs": [],
   "source": [
    "arrSample*2"
   ]
  },
  {
   "cell_type": "code",
   "execution_count": null,
   "id": "9ce069c0",
   "metadata": {},
   "outputs": [],
   "source": [
    "rangeSample*2"
   ]
  },
  {
   "cell_type": "code",
   "execution_count": null,
   "id": "46f0b229",
   "metadata": {},
   "outputs": [],
   "source": []
  },
  {
   "cell_type": "markdown",
   "id": "4c73ac68",
   "metadata": {},
   "source": [
    "# STRING METHODS"
   ]
  },
  {
   "cell_type": "code",
   "execution_count": null,
   "id": "7bdea9b5",
   "metadata": {},
   "outputs": [],
   "source": [
    "strSample = 'learning is fun !'\n",
    "print(strSample)"
   ]
  },
  {
   "cell_type": "code",
   "execution_count": null,
   "id": "c3f63c20",
   "metadata": {},
   "outputs": [],
   "source": [
    "strSample.capitalize( )"
   ]
  },
  {
   "cell_type": "code",
   "execution_count": null,
   "id": "307898e8",
   "metadata": {},
   "outputs": [],
   "source": [
    "strSample.casefold()"
   ]
  },
  {
   "cell_type": "code",
   "execution_count": null,
   "id": "cd9d1769",
   "metadata": {},
   "outputs": [],
   "source": [
    "strSample.title()"
   ]
  },
  {
   "cell_type": "code",
   "execution_count": null,
   "id": "7ee428f8",
   "metadata": {},
   "outputs": [],
   "source": [
    "strSample.swapcase()"
   ]
  },
  {
   "cell_type": "code",
   "execution_count": null,
   "id": "cc69b004",
   "metadata": {},
   "outputs": [],
   "source": [
    "strSample.find('n')"
   ]
  },
  {
   "cell_type": "code",
   "execution_count": null,
   "id": "a85db86f",
   "metadata": {},
   "outputs": [],
   "source": [
    "strSample.count('a')"
   ]
  },
  {
   "cell_type": "code",
   "execution_count": null,
   "id": "eccb6cf4",
   "metadata": {},
   "outputs": [],
   "source": [
    "strSample.replace('fun','joyful')"
   ]
  },
  {
   "cell_type": "code",
   "execution_count": null,
   "id": "8084bc73",
   "metadata": {},
   "outputs": [],
   "source": [
    "strSample.isalum()"
   ]
  },
  {
   "cell_type": "code",
   "execution_count": null,
   "id": "796b4f82",
   "metadata": {},
   "outputs": [],
   "source": [
    "name1 = 'GITAA'\n",
    "name2 = 'Pvt'\n",
    "name3 = 'Ltd'"
   ]
  },
  {
   "cell_type": "code",
   "execution_count": null,
   "id": "27226b81",
   "metadata": {},
   "outputs": [],
   "source": [
    "name='{} {}. {}.'.format(name1,name2,name3)\n",
    "print (name)"
   ]
  },
  {
   "cell_type": "code",
   "execution_count": null,
   "id": "4d791081",
   "metadata": {},
   "outputs": [],
   "source": [
    "print(dir(name))"
   ]
  },
  {
   "cell_type": "code",
   "execution_count": null,
   "id": "9d3f7568",
   "metadata": {},
   "outputs": [],
   "source": [
    "print(help(str))"
   ]
  },
  {
   "cell_type": "code",
   "execution_count": null,
   "id": "51d73f89",
   "metadata": {},
   "outputs": [],
   "source": [
    "print(help(str.find))"
   ]
  },
  {
   "cell_type": "markdown",
   "id": "5b602ba1",
   "metadata": {},
   "source": [
    "# SQUENCE DATATYPE OBJECT INTIALIZATIONS"
   ]
  },
  {
   "cell_type": "code",
   "execution_count": null,
   "id": "4bf40878",
   "metadata": {},
   "outputs": [],
   "source": [
    "strSample = 'learning is fun ! '"
   ]
  },
  {
   "cell_type": "code",
   "execution_count": null,
   "id": "00ea2406",
   "metadata": {},
   "outputs": [],
   "source": [
    "lstSample =[1,2,'a','sam',2]"
   ]
  },
  {
   "cell_type": "code",
   "execution_count": null,
   "id": "a372b77f",
   "metadata": {},
   "outputs": [],
   "source": [
    "from array import *"
   ]
  },
  {
   "cell_type": "code",
   "execution_count": null,
   "id": "99833c97",
   "metadata": {},
   "outputs": [],
   "source": [
    "arrSample array =array('i',[1,2,3,4]"
   ]
  },
  {
   "cell_type": "code",
   "execution_count": null,
   "id": "824c1494",
   "metadata": {},
   "outputs": [],
   "source": [
    "tupSample = (1,2,3,4,3,'py')"
   ]
  },
  {
   "cell_type": "code",
   "execution_count": null,
   "id": "85e27737",
   "metadata": {},
   "outputs": [],
   "source": [
    "dictSample= {1: 'first', 'second' : 2, 3:3, 'four' :'4'}"
   ]
  },
  {
   "cell_type": "code",
   "execution_count": null,
   "id": "8b758d4f",
   "metadata": {},
   "outputs": [],
   "source": [
    "setSample = { 'example', 24, 87.5, 'data', 24, 'data')\n",
    "Keys = (1,'second',3,' four')\n",
    "rangeSample = range (1, 12, 4)\n",
    "for x in rangeSample: print (x)"
   ]
  },
  {
   "cell_type": "markdown",
   "id": "b7b06626",
   "metadata": {},
   "source": [
    "# len(object) returns number of elements in the object"
   ]
  },
  {
   "cell_type": "code",
   "execution_count": null,
   "id": "c0672f3c",
   "metadata": {},
   "outputs": [],
   "source": [
    "print (\"NO. of elements in the object :\")\n",
    "print (\"string = {}, list = {}, array = { }, tuple = {},\\\n",
    "dictionary = {}, set ={}, range ={}\".format(len(strSample), len(lstSample),\n",
    "len(tupSample), len(dictSample), len(setSample), len(rangeSample) \n",
    "len (arrsample)))"
   ]
  },
  {
   "cell_type": "code",
   "execution_count": null,
   "id": "1e241b54",
   "metadata": {},
   "outputs": [],
   "source": [
    "lstSample.reverse()\n",
    "print(lstSample)"
   ]
  },
  {
   "cell_type": "code",
   "execution_count": null,
   "id": "7e52afe9",
   "metadata": {},
   "outputs": [],
   "source": []
  },
  {
   "cell_type": "markdown",
   "id": "0e34eff9",
   "metadata": {},
   "source": [
    "# The clear() method removes all items from the object"
   ]
  },
  {
   "cell_type": "code",
   "execution_count": null,
   "id": "9a50dbf4",
   "metadata": {},
   "outputs": [],
   "source": [
    "lstSample.clear()\n",
    "print(lstSample)"
   ]
  },
  {
   "cell_type": "code",
   "execution_count": null,
   "id": "1fa1033d",
   "metadata": {},
   "outputs": [],
   "source": [
    "dictSample.clear()\n",
    "print(dictSample)"
   ]
  },
  {
   "cell_type": "code",
   "execution_count": null,
   "id": "8392f48a",
   "metadata": {},
   "outputs": [],
   "source": [
    "setSample.clear()\n",
    "print(setSample)"
   ]
  },
  {
   "cell_type": "code",
   "execution_count": null,
   "id": "f029e903",
   "metadata": {},
   "outputs": [],
   "source": []
  },
  {
   "cell_type": "markdown",
   "id": "7bcf7a05",
   "metadata": {},
   "source": [
    "# append() Adds an element at the end of the object"
   ]
  },
  {
   "cell_type": "code",
   "execution_count": null,
   "id": "88da8292",
   "metadata": {},
   "outputs": [],
   "source": [
    "arrSample.append(3)\n",
    "print(arrSample)"
   ]
  },
  {
   "cell_type": "code",
   "execution_count": null,
   "id": "a480b171",
   "metadata": {},
   "outputs": [],
   "source": [
    "print(lstSample)"
   ]
  },
  {
   "cell_type": "code",
   "execution_count": null,
   "id": "79557368",
   "metadata": {},
   "outputs": [],
   "source": [
    "lstSample.append([2,4])\n",
    "print (lstSample)"
   ]
  },
  {
   "cell_type": "code",
   "execution_count": null,
   "id": "04f00faf",
   "metadata": {},
   "outputs": [],
   "source": [
    "setSample.append(20)\n",
    "setSample.add(20)\n",
    "print(setSample)"
   ]
  },
  {
   "cell_type": "code",
   "execution_count": null,
   "id": "c099a9e6",
   "metadata": {},
   "outputs": [],
   "source": []
  },
  {
   "cell_type": "markdown",
   "id": "006229bd",
   "metadata": {},
   "source": [
    "# update() function in set adds elements from a set (passed as an argument) to the set"
   ]
  },
  {
   "cell_type": "code",
   "execution_count": null,
   "id": "3890d9e1",
   "metadata": {},
   "outputs": [],
   "source": [
    "setSample.update([5, 10])\n",
    "print(setSample)"
   ]
  },
  {
   "cell_type": "code",
   "execution_count": null,
   "id": "3e821d3f",
   "metadata": {},
   "outputs": [],
   "source": []
  },
  {
   "cell_type": "markdown",
   "id": "cac8aff2",
   "metadata": {},
   "source": [
    "#  Dictionary Methods"
   ]
  },
  {
   "cell_type": "code",
   "execution_count": null,
   "id": "d25ef445",
   "metadata": {},
   "outputs": [],
   "source": [
    "print(dictSample)"
   ]
  },
  {
   "cell_type": "code",
   "execution_count": null,
   "id": "3143a224",
   "metadata": {},
   "outputs": [],
   "source": [
    "dictSample[\"five\"] = 5\n",
    "print(dictSample)"
   ]
  },
  {
   "cell_type": "code",
   "execution_count": null,
   "id": "007ff7bb",
   "metadata": {},
   "outputs": [],
   "source": [
    "dictSample.update(five = 5)\n",
    "print(dictSample)"
   ]
  },
  {
   "cell_type": "code",
   "execution_count": null,
   "id": "b3cbc9b6",
   "metadata": {},
   "outputs": [],
   "source": [
    "list(dictSample)"
   ]
  },
  {
   "cell_type": "code",
   "execution_count": null,
   "id": "988db802",
   "metadata": {},
   "outputs": [],
   "source": [
    "len(dictSample)"
   ]
  },
  {
   "cell_type": "code",
   "execution_count": null,
   "id": "323d613e",
   "metadata": {},
   "outputs": [],
   "source": [
    "dictSample.get(\"five\")"
   ]
  },
  {
   "cell_type": "code",
   "execution_count": null,
   "id": "fc9ff3dd",
   "metadata": {},
   "outputs": [],
   "source": [
    "dictSample.keys()"
   ]
  },
  {
   "cell_type": "code",
   "execution_count": null,
   "id": "e757f355",
   "metadata": {},
   "outputs": [],
   "source": [
    "dictSample.items()"
   ]
  },
  {
   "cell_type": "code",
   "execution_count": null,
   "id": "17b67b72",
   "metadata": {},
   "outputs": [],
   "source": []
  },
  {
   "cell_type": "markdown",
   "id": "3fc7e46e",
   "metadata": {},
   "source": [
    "# insert()- inserts the element at the specified index of the object"
   ]
  },
  {
   "cell_type": "code",
   "execution_count": null,
   "id": "20f660b4",
   "metadata": {},
   "outputs": [],
   "source": [
    "print(arrSample)"
   ]
  },
  {
   "cell_type": "code",
   "execution_count": null,
   "id": "068b82b2",
   "metadata": {},
   "outputs": [],
   "source": [
    "arrSample.insert(1,100)\n",
    "print(arrSample)"
   ]
  },
  {
   "cell_type": "code",
   "execution_count": null,
   "id": "5170182d",
   "metadata": {},
   "outputs": [],
   "source": [
    "lstSample.insert(5,24)\n",
    "print(lstSample)"
   ]
  },
  {
   "cell_type": "code",
   "execution_count": null,
   "id": "c9172dc0",
   "metadata": {},
   "outputs": [],
   "source": []
  },
  {
   "cell_type": "markdown",
   "id": "0bcaceaf",
   "metadata": {},
   "source": [
    "# pop()- removes the element at the given index from the object and prints the same"
   ]
  },
  {
   "cell_type": "code",
   "execution_count": null,
   "id": "5758aed1",
   "metadata": {},
   "outputs": [],
   "source": [
    "arrSample.pop()"
   ]
  },
  {
   "cell_type": "code",
   "execution_count": null,
   "id": "6cf5ea5e",
   "metadata": {},
   "outputs": [],
   "source": [
    "print(lstsample)\n",
    "lstsample.pop(4)"
   ]
  },
  {
   "cell_type": "code",
   "execution_count": null,
   "id": "4e5eb46a",
   "metadata": {},
   "outputs": [],
   "source": [
    "print(dictSample)\n",
    "dictSample.pop('second')"
   ]
  },
  {
   "cell_type": "code",
   "execution_count": null,
   "id": "00ff4ee1",
   "metadata": {},
   "outputs": [],
   "source": [
    "dictSample.pop(3)"
   ]
  },
  {
   "cell_type": "code",
   "execution_count": null,
   "id": "ba2730f1",
   "metadata": {},
   "outputs": [],
   "source": []
  },
  {
   "cell_type": "markdown",
   "id": "fcc71d0b",
   "metadata": {},
   "source": [
    "# Set is an unordered sequence and hence pop is not usually used"
   ]
  },
  {
   "cell_type": "code",
   "execution_count": null,
   "id": "c85734a6",
   "metadata": {},
   "outputs": [],
   "source": [
    "print(arrSample)\n",
    "arrSample.remove(O)"
   ]
  },
  {
   "cell_type": "code",
   "execution_count": null,
   "id": "1a2c7b01",
   "metadata": {},
   "outputs": [],
   "source": [
    "arrsample.remove(2)\n",
    "print(arrSample)"
   ]
  },
  {
   "cell_type": "code",
   "execution_count": null,
   "id": "307cb08b",
   "metadata": {},
   "outputs": [],
   "source": [
    "print(lstSample)\n",
    "lstSample.remove('sam')\n",
    "print(lstSample)"
   ]
  },
  {
   "cell_type": "code",
   "execution_count": null,
   "id": "cc46f364",
   "metadata": {},
   "outputs": [],
   "source": [
    "print(setSample)\n",
    "setSample.remove(57)"
   ]
  },
  {
   "cell_type": "code",
   "execution_count": null,
   "id": "7a9814dd",
   "metadata": {},
   "outputs": [],
   "source": [
    "setSample.discard(57)\n",
    "print(setSample)"
   ]
  },
  {
   "cell_type": "code",
   "execution_count": null,
   "id": "0897343d",
   "metadata": {},
   "outputs": [],
   "source": []
  },
  {
   "cell_type": "markdown",
   "id": "2e14de18",
   "metadata": {},
   "source": [
    "# del: deletes the entire object of any data type"
   ]
  },
  {
   "cell_type": "code",
   "execution_count": null,
   "id": "48e3545a",
   "metadata": {},
   "outputs": [],
   "source": [
    "del setSample\n",
    "print(setSample)"
   ]
  },
  {
   "cell_type": "code",
   "execution_count": null,
   "id": "391e7c78",
   "metadata": {},
   "outputs": [],
   "source": [
    "del arrSample\n",
    "print(arrSample)"
   ]
  },
  {
   "cell_type": "code",
   "execution_count": null,
   "id": "d6544563",
   "metadata": {},
   "outputs": [],
   "source": [
    "del lstSample\n",
    "print(lstSample)"
   ]
  },
  {
   "cell_type": "code",
   "execution_count": null,
   "id": "da169521",
   "metadata": {},
   "outputs": [],
   "source": [
    "del lstsample(2)\n",
    "print(1stSamp1e)"
   ]
  },
  {
   "cell_type": "code",
   "execution_count": null,
   "id": "9b9deecf",
   "metadata": {},
   "outputs": [],
   "source": [
    "del lstSample[1:3]\n",
    "print(lstSample)"
   ]
  },
  {
   "cell_type": "code",
   "execution_count": null,
   "id": "ba1320ce",
   "metadata": {},
   "outputs": [],
   "source": [
    "del lstSample[:]\n",
    "print(lstSample)"
   ]
  },
  {
   "cell_type": "code",
   "execution_count": null,
   "id": "6f31bec7",
   "metadata": {},
   "outputs": [],
   "source": [
    "del dictSample\n",
    "print(dictSample)"
   ]
  },
  {
   "cell_type": "code",
   "execution_count": null,
   "id": "e9add8a3",
   "metadata": {},
   "outputs": [],
   "source": []
  },
  {
   "cell_type": "markdown",
   "id": "24ef5542",
   "metadata": {},
   "source": [
    "# Array operations"
   ]
  },
  {
   "cell_type": "code",
   "execution_count": null,
   "id": "bdc49ae9",
   "metadata": {},
   "outputs": [],
   "source": [
    "arrSample.extend((4,5,3,5))\n",
    "print (arrSample)"
   ]
  },
  {
   "cell_type": "code",
   "execution_count": null,
   "id": "85ef583e",
   "metadata": {},
   "outputs": [],
   "source": [
    "print(arrSample.extend(['sam']))"
   ]
  },
  {
   "cell_type": "code",
   "execution_count": null,
   "id": "e9288900",
   "metadata": {},
   "outputs": [],
   "source": [
    "arrSample.fromlist([3,4])\n",
    "print(arrSample)\n",
    "arrSample.tolist()"
   ]
  },
  {
   "cell_type": "code",
   "execution_count": null,
   "id": "b613c8b3",
   "metadata": {},
   "outputs": [],
   "source": [
    "range"
   ]
  },
  {
   "cell_type": "code",
   "execution_count": null,
   "id": "66f1cc96",
   "metadata": {},
   "outputs": [],
   "source": []
  },
  {
   "cell_type": "markdown",
   "id": "889de5a3",
   "metadata": {},
   "source": [
    "# List Operations"
   ]
  },
  {
   "cell_type": "code",
   "execution_count": null,
   "id": "bf79d792",
   "metadata": {},
   "outputs": [],
   "source": [
    "A = {'example',24, 87.5, 'data', 24, 'data'}\n",
    "print(A)"
   ]
  },
  {
   "cell_type": "code",
   "execution_count": null,
   "id": "4e648adf",
   "metadata": {},
   "outputs": [],
   "source": [
    "B = {24, 87.5}\n",
    "print(B)"
   ]
  },
  {
   "cell_type": "code",
   "execution_count": null,
   "id": "7dcb38fa",
   "metadata": {},
   "outputs": [],
   "source": [
    "print(A  B)\n",
    "A.union(B)"
   ]
  },
  {
   "cell_type": "code",
   "execution_count": null,
   "id": "acb591e6",
   "metadata": {},
   "outputs": [],
   "source": [
    "print(A & B)\n",
    "A.intersection(B)"
   ]
  }
 ],
 "metadata": {
  "kernelspec": {
   "display_name": "Python 3 (ipykernel)",
   "language": "python",
   "name": "python3"
  },
  "language_info": {
   "codemirror_mode": {
    "name": "ipython",
    "version": 3
   },
   "file_extension": ".py",
   "mimetype": "text/x-python",
   "name": "python",
   "nbconvert_exporter": "python",
   "pygments_lexer": "ipython3",
   "version": "3.10.9"
  }
 },
 "nbformat": 4,
 "nbformat_minor": 5
}
