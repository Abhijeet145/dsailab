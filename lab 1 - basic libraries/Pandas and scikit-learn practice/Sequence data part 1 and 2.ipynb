{
 "cells": [
  {
   "cell_type": "markdown",
   "id": "4c8211cb",
   "metadata": {},
   "source": [
    "# Sequence object initialization"
   ]
  },
  {
   "cell_type": "code",
   "execution_count": 1,
   "id": "d81da51a",
   "metadata": {},
   "outputs": [
    {
     "name": "stdout",
     "output_type": "stream",
     "text": [
      "learning\n"
     ]
    }
   ],
   "source": [
    "strSample = 'learning'    #String\n",
    "print (strSample)\n"
   ]
  },
  {
   "cell_type": "code",
   "execution_count": 4,
   "id": "47b95693",
   "metadata": {},
   "outputs": [
    {
     "name": "stdout",
     "output_type": "stream",
     "text": [
      "[1, 2, 3, 3, 3, 4, 5]\n"
     ]
    }
   ],
   "source": [
    "lstNumbers = [1, 2, 3, 3, 3, 4, 5]             # list with numbers\n",
    "                                               # (having duplicate values)\n",
    "print (lstNumbers)"
   ]
  },
  {
   "cell_type": "code",
   "execution_count": 6,
   "id": "031a7be6",
   "metadata": {},
   "outputs": [
    {
     "name": "stdout",
     "output_type": "stream",
     "text": [
      "[1, 2, 'a', 'sam', 2]\n"
     ]
    }
   ],
   "source": [
    "lstSample = [1, 2, 'a','sam', 2]                           #list with mixed data types\n",
    "print (lstSample)                                          # (Having numbers and strings)\n",
    "\n"
   ]
  },
  {
   "cell_type": "code",
   "execution_count": 7,
   "id": "28becfa3",
   "metadata": {},
   "outputs": [
    {
     "name": "stdout",
     "output_type": "stream",
     "text": [
      "1\n",
      "2\n",
      "3\n",
      "4\n"
     ]
    }
   ],
   "source": [
    "from array import *                                      #importing array module\n",
    "arrSample = array('i', [1, 2, 3, 4])                     # array\n",
    "#print (arrSample)                                        #printing values of array\n",
    "for x in arrSample: print (x)\n",
    "\n"
   ]
  },
  {
   "cell_type": "code",
   "execution_count": 10,
   "id": "2cf1f7ec",
   "metadata": {},
   "outputs": [],
   "source": [
    "tupSample = (1,2,3,4,3,'py')     #tuple"
   ]
  },
  {
   "cell_type": "code",
   "execution_count": 11,
   "id": "032b044a",
   "metadata": {},
   "outputs": [
    {
     "name": "stdout",
     "output_type": "stream",
     "text": [
      "(1, 2, 'sample')\n"
     ]
    }
   ],
   "source": [
    "tupleSample = 1,2,'sample'       #tuple packing\n",
    "print(tupleSample)"
   ]
  },
  {
   "cell_type": "code",
   "execution_count": 12,
   "id": "c30e72bd",
   "metadata": {},
   "outputs": [],
   "source": [
    "dictSample ={1:'first','second':2,3:3,'four':'4'}  #dictionary"
   ]
  },
  {
   "cell_type": "code",
   "execution_count": 13,
   "id": "b577340d",
   "metadata": {},
   "outputs": [
    {
     "data": {
      "text/plain": [
       "{'first': 1, 'second': 2, 'four': 4}"
      ]
     },
     "execution_count": 13,
     "metadata": {},
     "output_type": "execute_result"
    }
   ],
   "source": [
    "dict_list = dict([('first',1),('second',2),('four',4)])\n",
    "dict_list"
   ]
  },
  {
   "cell_type": "code",
   "execution_count": 14,
   "id": "a919634b",
   "metadata": {},
   "outputs": [
    {
     "data": {
      "text/plain": [
       "{'a', 'e', 'l', 'm', 'p', 'x'}"
      ]
     },
     "execution_count": 14,
     "metadata": {},
     "output_type": "execute_result"
    }
   ],
   "source": [
    "setSample = {'example',24,87.5,'data',24,'data'}   #set\n",
    "setSample\n",
    "set('example')"
   ]
  },
  {
   "cell_type": "code",
   "execution_count": 15,
   "id": "e8913de7",
   "metadata": {},
   "outputs": [
    {
     "name": "stdout",
     "output_type": "stream",
     "text": [
      "range(1, 12, 4)\n",
      "1\n",
      "5\n",
      "9\n"
     ]
    }
   ],
   "source": [
    "rangeSample = range(1,12,4)\n",
    "print(rangeSample)\n",
    "for x in rangeSample: print(x)"
   ]
  },
  {
   "cell_type": "markdown",
   "id": "4e2d448f",
   "metadata": {},
   "source": [
    "#  String : Indexing"
   ]
  },
  {
   "cell_type": "code",
   "execution_count": 16,
   "id": "27ab6c4f",
   "metadata": {},
   "outputs": [],
   "source": [
    "strSample = 'learning'       # string"
   ]
  },
  {
   "cell_type": "code",
   "execution_count": 18,
   "id": "baf3288e",
   "metadata": {},
   "outputs": [
    {
     "data": {
      "text/plain": [
       "0"
      ]
     },
     "execution_count": 18,
     "metadata": {},
     "output_type": "execute_result"
    }
   ],
   "source": [
    "strSample.index('l')         # to find the index of substring 'l' from string 'learning'"
   ]
  },
  {
   "cell_type": "code",
   "execution_count": 19,
   "id": "09b688f9",
   "metadata": {},
   "outputs": [
    {
     "data": {
      "text/plain": [
       "4"
      ]
     },
     "execution_count": 19,
     "metadata": {},
     "output_type": "execute_result"
    }
   ],
   "source": [
    "strSample.index('ning')      # to find the index of substring 'ning' from string 'learning'"
   ]
  },
  {
   "cell_type": "code",
   "execution_count": 20,
   "id": "ffc8864f",
   "metadata": {},
   "outputs": [
    {
     "data": {
      "text/plain": [
       "'g'"
      ]
     },
     "execution_count": 20,
     "metadata": {},
     "output_type": "execute_result"
    }
   ],
   "source": [
    "strSample[7] # to find the substring correspond to 8th position"
   ]
  },
  {
   "cell_type": "code",
   "execution_count": 21,
   "id": "1b32d307",
   "metadata": {},
   "outputs": [
    {
     "data": {
      "text/plain": [
       "'n'"
      ]
     },
     "execution_count": 21,
     "metadata": {},
     "output_type": "execute_result"
    }
   ],
   "source": [
    "strSample[-2]   # to find the substring correspond to 2nd last position"
   ]
  },
  {
   "cell_type": "code",
   "execution_count": 22,
   "id": "906fa87b",
   "metadata": {},
   "outputs": [
    {
     "ename": "IndexError",
     "evalue": "string index out of range",
     "output_type": "error",
     "traceback": [
      "\u001b[1;31m---------------------------------------------------------------------------\u001b[0m",
      "\u001b[1;31mIndexError\u001b[0m                                Traceback (most recent call last)",
      "Cell \u001b[1;32mIn[22], line 1\u001b[0m\n\u001b[1;32m----> 1\u001b[0m \u001b[43mstrSample\u001b[49m\u001b[43m \u001b[49m\u001b[43m[\u001b[49m\u001b[38;5;241;43m-\u001b[39;49m\u001b[38;5;241;43m9\u001b[39;49m\u001b[43m]\u001b[49m\n",
      "\u001b[1;31mIndexError\u001b[0m: string index out of range"
     ]
    }
   ],
   "source": [
    "strSample [-9] # IndexError : string index out of range"
   ]
  },
  {
   "cell_type": "markdown",
   "id": "06eb4e21",
   "metadata": {},
   "source": [
    "# List: Indexing"
   ]
  },
  {
   "cell_type": "markdown",
   "id": "3a687e80",
   "metadata": {},
   "source": [
    "# Syntax : list_name.index(element,start,end)"
   ]
  },
  {
   "cell_type": "code",
   "execution_count": 23,
   "id": "3aae16db",
   "metadata": {},
   "outputs": [],
   "source": [
    "lstSample = [1,2,'a','sam',2]   # list"
   ]
  },
  {
   "cell_type": "code",
   "execution_count": 24,
   "id": "f307171d",
   "metadata": {},
   "outputs": [
    {
     "data": {
      "text/plain": [
       "3"
      ]
     },
     "execution_count": 24,
     "metadata": {},
     "output_type": "execute_result"
    }
   ],
   "source": [
    "lstSample.index('sam')          # to find the index of element 'sam'"
   ]
  },
  {
   "cell_type": "code",
   "execution_count": 25,
   "id": "6ce70d43",
   "metadata": {},
   "outputs": [
    {
     "data": {
      "text/plain": [
       "'a'"
      ]
     },
     "execution_count": 25,
     "metadata": {},
     "output_type": "execute_result"
    }
   ],
   "source": [
    "lstSample[2]  # to find the element correspond to the 2nd index"
   ]
  },
  {
   "cell_type": "code",
   "execution_count": 26,
   "id": "71f4f93d",
   "metadata": {},
   "outputs": [
    {
     "data": {
      "text/plain": [
       "2"
      ]
     },
     "execution_count": 26,
     "metadata": {},
     "output_type": "execute_result"
    }
   ],
   "source": [
    "lstSample[-1]  # to find the last element in the list"
   ]
  },
  {
   "cell_type": "markdown",
   "id": "7c373a51",
   "metadata": {},
   "source": [
    "# Array : Indexing"
   ]
  },
  {
   "cell_type": "code",
   "execution_count": 27,
   "id": "75e2476d",
   "metadata": {},
   "outputs": [],
   "source": [
    "from array import*       #import array module "
   ]
  },
  {
   "cell_type": "code",
   "execution_count": 28,
   "id": "00746634",
   "metadata": {},
   "outputs": [],
   "source": [
    "arrSample = array('i',[1,2,3,4])  # array with integer type"
   ]
  },
  {
   "cell_type": "code",
   "execution_count": 29,
   "id": "bca49433",
   "metadata": {},
   "outputs": [
    {
     "name": "stdout",
     "output_type": "stream",
     "text": [
      "1\n",
      "2\n",
      "3\n",
      "4\n"
     ]
    }
   ],
   "source": [
    "for x in arrSample: print(x)    # printing the values of array 'arrSample'"
   ]
  },
  {
   "cell_type": "code",
   "execution_count": 30,
   "id": "4a769766",
   "metadata": {},
   "outputs": [
    {
     "data": {
      "text/plain": [
       "2"
      ]
     },
     "execution_count": 30,
     "metadata": {},
     "output_type": "execute_result"
    }
   ],
   "source": [
    "arrSample[-3]        # to find the 3rd last element from 'arrSample'"
   ]
  },
  {
   "cell_type": "markdown",
   "id": "062055fd",
   "metadata": {},
   "source": [
    "# Tuple: Indexing"
   ]
  },
  {
   "cell_type": "code",
   "execution_count": 31,
   "id": "80305595",
   "metadata": {},
   "outputs": [],
   "source": [
    "tupSample = (1,2,3,4,3,'py') #tuple"
   ]
  },
  {
   "cell_type": "code",
   "execution_count": 32,
   "id": "34c954ff",
   "metadata": {},
   "outputs": [
    {
     "data": {
      "text/plain": [
       "5"
      ]
     },
     "execution_count": 32,
     "metadata": {},
     "output_type": "execute_result"
    }
   ],
   "source": [
    "tupSample.index('py')    # to find the position of element py"
   ]
  },
  {
   "cell_type": "code",
   "execution_count": 33,
   "id": "b5387dde",
   "metadata": {},
   "outputs": [
    {
     "data": {
      "text/plain": [
       "3"
      ]
     },
     "execution_count": 33,
     "metadata": {},
     "output_type": "execute_result"
    }
   ],
   "source": [
    "tupSample[2]    # to find the 3rd element of tupSample"
   ]
  },
  {
   "cell_type": "markdown",
   "id": "ea54f595",
   "metadata": {},
   "source": [
    "# Set : Indexing"
   ]
  },
  {
   "cell_type": "code",
   "execution_count": 34,
   "id": "1807ea46",
   "metadata": {},
   "outputs": [],
   "source": [
    "setSample = {'example',24,87.5,'data',24,'data'}     #sets"
   ]
  },
  {
   "cell_type": "code",
   "execution_count": 35,
   "id": "592815e2",
   "metadata": {},
   "outputs": [
    {
     "ename": "TypeError",
     "evalue": "'set' object is not subscriptable",
     "output_type": "error",
     "traceback": [
      "\u001b[1;31m---------------------------------------------------------------------------\u001b[0m",
      "\u001b[1;31mTypeError\u001b[0m                                 Traceback (most recent call last)",
      "Cell \u001b[1;32mIn[35], line 1\u001b[0m\n\u001b[1;32m----> 1\u001b[0m \u001b[43msetSample\u001b[49m\u001b[43m[\u001b[49m\u001b[38;5;241;43m4\u001b[39;49m\u001b[43m]\u001b[49m\n",
      "\u001b[1;31mTypeError\u001b[0m: 'set' object is not subscriptable"
     ]
    }
   ],
   "source": [
    "setSample[4]          # typeerror : 'set' object does not support indexing    "
   ]
  },
  {
   "cell_type": "markdown",
   "id": "4a7335c7",
   "metadata": {},
   "source": [
    "# Dictionary : indexing"
   ]
  },
  {
   "cell_type": "markdown",
   "id": "c41067ac",
   "metadata": {},
   "source": [
    "The Python dictionary object provides a key : value indexing facility.\n",
    "\n",
    "The values in the dictionary are indexed by keys,they are not held in any order."
   ]
  },
  {
   "cell_type": "code",
   "execution_count": 36,
   "id": "59a116c6",
   "metadata": {},
   "outputs": [],
   "source": [
    "dictSample ={1:'first','second':2,3:3,'four':'4'}  #dictionary"
   ]
  },
  {
   "cell_type": "code",
   "execution_count": 37,
   "id": "b80a0f4d",
   "metadata": {},
   "outputs": [
    {
     "ename": "KeyError",
     "evalue": "2",
     "output_type": "error",
     "traceback": [
      "\u001b[1;31m---------------------------------------------------------------------------\u001b[0m",
      "\u001b[1;31mKeyError\u001b[0m                                  Traceback (most recent call last)",
      "Cell \u001b[1;32mIn[37], line 1\u001b[0m\n\u001b[1;32m----> 1\u001b[0m \u001b[43mdictSample\u001b[49m\u001b[43m[\u001b[49m\u001b[38;5;241;43m2\u001b[39;49m\u001b[43m]\u001b[49m\n",
      "\u001b[1;31mKeyError\u001b[0m: 2"
     ]
    }
   ],
   "source": [
    "dictSample[2]     # Keyerror : 2  - indexing by values is not applicable in dictionary"
   ]
  },
  {
   "cell_type": "code",
   "execution_count": 38,
   "id": "23966bd0",
   "metadata": {},
   "outputs": [
    {
     "data": {
      "text/plain": [
       "'first'"
      ]
     },
     "execution_count": 38,
     "metadata": {},
     "output_type": "execute_result"
    }
   ],
   "source": [
    "dictSample[1]   # to find value correspons to key 1"
   ]
  },
  {
   "cell_type": "code",
   "execution_count": 39,
   "id": "94c65a0e",
   "metadata": {},
   "outputs": [
    {
     "data": {
      "text/plain": [
       "2"
      ]
     },
     "execution_count": 39,
     "metadata": {},
     "output_type": "execute_result"
    }
   ],
   "source": [
    "dictSample['second']  # to find value corresponds to key 'second'"
   ]
  },
  {
   "cell_type": "markdown",
   "id": "d741c897",
   "metadata": {},
   "source": [
    "# Range : Indexing "
   ]
  },
  {
   "cell_type": "code",
   "execution_count": 40,
   "id": "612d10e0",
   "metadata": {},
   "outputs": [
    {
     "name": "stdout",
     "output_type": "stream",
     "text": [
      "1\n",
      "5\n",
      "9\n"
     ]
    }
   ],
   "source": [
    "rangeSample = range(1,12,4)   # built-in sequence used for looping\n",
    "for x in rangeSample: print(x)   # print the values of 'rangeSample'"
   ]
  },
  {
   "cell_type": "code",
   "execution_count": 41,
   "id": "58d6fa4d",
   "metadata": {},
   "outputs": [
    {
     "ename": "ValueError",
     "evalue": "0 is not in range",
     "output_type": "error",
     "traceback": [
      "\u001b[1;31m---------------------------------------------------------------------------\u001b[0m",
      "\u001b[1;31mValueError\u001b[0m                                Traceback (most recent call last)",
      "Cell \u001b[1;32mIn[41], line 1\u001b[0m\n\u001b[1;32m----> 1\u001b[0m \u001b[43mrangeSample\u001b[49m\u001b[38;5;241;43m.\u001b[39;49m\u001b[43mindex\u001b[49m\u001b[43m(\u001b[49m\u001b[38;5;241;43m0\u001b[39;49m\u001b[43m)\u001b[49m\n",
      "\u001b[1;31mValueError\u001b[0m: 0 is not in range"
     ]
    }
   ],
   "source": [
    "rangeSample.index(0)   # Value error : 0 is not in range"
   ]
  },
  {
   "cell_type": "code",
   "execution_count": 42,
   "id": "2cb1543d",
   "metadata": {},
   "outputs": [
    {
     "data": {
      "text/plain": [
       "2"
      ]
     },
     "execution_count": 42,
     "metadata": {},
     "output_type": "execute_result"
    }
   ],
   "source": [
    "rangeSample.index(9)        # to find the index of element 9   "
   ]
  },
  {
   "cell_type": "code",
   "execution_count": 43,
   "id": "3f857ccb",
   "metadata": {},
   "outputs": [
    {
     "data": {
      "text/plain": [
       "5"
      ]
     },
     "execution_count": 43,
     "metadata": {},
     "output_type": "execute_result"
    }
   ],
   "source": [
    "rangeSample[1]      # given the index,returns the element"
   ]
  },
  {
   "cell_type": "code",
   "execution_count": 44,
   "id": "9a103840",
   "metadata": {},
   "outputs": [
    {
     "ename": "IndexError",
     "evalue": "range object index out of range",
     "output_type": "error",
     "traceback": [
      "\u001b[1;31m---------------------------------------------------------------------------\u001b[0m",
      "\u001b[1;31mIndexError\u001b[0m                                Traceback (most recent call last)",
      "Cell \u001b[1;32mIn[44], line 1\u001b[0m\n\u001b[1;32m----> 1\u001b[0m \u001b[43mrangeSample\u001b[49m\u001b[43m[\u001b[49m\u001b[38;5;241;43m9\u001b[39;49m\u001b[43m]\u001b[49m\n",
      "\u001b[1;31mIndexError\u001b[0m: range object index out of range"
     ]
    }
   ],
   "source": [
    "rangeSample[9]      # Index error : range object out of range"
   ]
  },
  {
   "cell_type": "code",
   "execution_count": null,
   "id": "4b65766c",
   "metadata": {},
   "outputs": [],
   "source": []
  }
 ],
 "metadata": {
  "kernelspec": {
   "display_name": "Python 3 (ipykernel)",
   "language": "python",
   "name": "python3"
  },
  "language_info": {
   "codemirror_mode": {
    "name": "ipython",
    "version": 3
   },
   "file_extension": ".py",
   "mimetype": "text/x-python",
   "name": "python",
   "nbconvert_exporter": "python",
   "pygments_lexer": "ipython3",
   "version": "3.10.9"
  }
 },
 "nbformat": 4,
 "nbformat_minor": 5
}
