{
  "cells": [
    {
      "cell_type": "code",
      "execution_count": 4,
      "metadata": {
        "colab": {
          "base_uri": "https://localhost:8080/",
          "height": 1000
        },
        "id": "Wg0g9MIiaEgc",
        "outputId": "4226fa52-35c3-4a44-f181-c7cce33054f9"
      },
      "outputs": [
        {
          "ename": "ValueError",
          "evalue": "Mime type rendering requires nbformat>=4.2.0 but it is not installed",
          "output_type": "error",
          "traceback": [
            "\u001b[0;31m---------------------------------------------------------------------------\u001b[0m",
            "\u001b[0;31mValueError\u001b[0m                                Traceback (most recent call last)",
            "Cell \u001b[0;32mIn[4], line 40\u001b[0m\n\u001b[1;32m     37\u001b[0m fig_doughnut\u001b[38;5;241m.\u001b[39mupdate_layout(title_text\u001b[38;5;241m=\u001b[39m\u001b[38;5;124m'\u001b[39m\u001b[38;5;124mPopulation by Continent (2007) - Doughnut Chart\u001b[39m\u001b[38;5;124m'\u001b[39m)\n\u001b[1;32m     39\u001b[0m \u001b[38;5;66;03m# Display all figures\u001b[39;00m\n\u001b[0;32m---> 40\u001b[0m \u001b[43mfig_line\u001b[49m\u001b[38;5;241;43m.\u001b[39;49m\u001b[43mshow\u001b[49m\u001b[43m(\u001b[49m\u001b[43m)\u001b[49m\n\u001b[1;32m     41\u001b[0m fig_scatter\u001b[38;5;241m.\u001b[39mshow()\n\u001b[1;32m     42\u001b[0m fig_bar\u001b[38;5;241m.\u001b[39mshow()\n",
            "File \u001b[0;32m~/Library/Python/3.9/lib/python/site-packages/plotly/basedatatypes.py:3414\u001b[0m, in \u001b[0;36mBaseFigure.show\u001b[0;34m(self, *args, **kwargs)\u001b[0m\n\u001b[1;32m   3381\u001b[0m \u001b[38;5;250m\u001b[39m\u001b[38;5;124;03m\"\"\"\u001b[39;00m\n\u001b[1;32m   3382\u001b[0m \u001b[38;5;124;03mShow a figure using either the default renderer(s) or the renderer(s)\u001b[39;00m\n\u001b[1;32m   3383\u001b[0m \u001b[38;5;124;03mspecified by the renderer argument\u001b[39;00m\n\u001b[0;32m   (...)\u001b[0m\n\u001b[1;32m   3410\u001b[0m \u001b[38;5;124;03mNone\u001b[39;00m\n\u001b[1;32m   3411\u001b[0m \u001b[38;5;124;03m\"\"\"\u001b[39;00m\n\u001b[1;32m   3412\u001b[0m \u001b[38;5;28;01mimport\u001b[39;00m \u001b[38;5;21;01mplotly\u001b[39;00m\u001b[38;5;21;01m.\u001b[39;00m\u001b[38;5;21;01mio\u001b[39;00m \u001b[38;5;28;01mas\u001b[39;00m \u001b[38;5;21;01mpio\u001b[39;00m\n\u001b[0;32m-> 3414\u001b[0m \u001b[38;5;28;01mreturn\u001b[39;00m \u001b[43mpio\u001b[49m\u001b[38;5;241;43m.\u001b[39;49m\u001b[43mshow\u001b[49m\u001b[43m(\u001b[49m\u001b[38;5;28;43mself\u001b[39;49m\u001b[43m,\u001b[49m\u001b[43m \u001b[49m\u001b[38;5;241;43m*\u001b[39;49m\u001b[43margs\u001b[49m\u001b[43m,\u001b[49m\u001b[43m \u001b[49m\u001b[38;5;241;43m*\u001b[39;49m\u001b[38;5;241;43m*\u001b[39;49m\u001b[43mkwargs\u001b[49m\u001b[43m)\u001b[49m\n",
            "File \u001b[0;32m~/Library/Python/3.9/lib/python/site-packages/plotly/io/_renderers.py:425\u001b[0m, in \u001b[0;36mshow\u001b[0;34m(fig, renderer, validate, **kwargs)\u001b[0m\n\u001b[1;32m    420\u001b[0m     \u001b[38;5;28;01mraise\u001b[39;00m \u001b[38;5;167;01mValueError\u001b[39;00m(\n\u001b[1;32m    421\u001b[0m         \u001b[38;5;124m\"\u001b[39m\u001b[38;5;124mMime type rendering requires ipython but it is not installed\u001b[39m\u001b[38;5;124m\"\u001b[39m\n\u001b[1;32m    422\u001b[0m     )\n\u001b[1;32m    424\u001b[0m \u001b[38;5;28;01mif\u001b[39;00m \u001b[38;5;129;01mnot\u001b[39;00m nbformat \u001b[38;5;129;01mor\u001b[39;00m Version(nbformat\u001b[38;5;241m.\u001b[39m__version__) \u001b[38;5;241m<\u001b[39m Version(\u001b[38;5;124m\"\u001b[39m\u001b[38;5;124m4.2.0\u001b[39m\u001b[38;5;124m\"\u001b[39m):\n\u001b[0;32m--> 425\u001b[0m     \u001b[38;5;28;01mraise\u001b[39;00m \u001b[38;5;167;01mValueError\u001b[39;00m(\n\u001b[1;32m    426\u001b[0m         \u001b[38;5;124m\"\u001b[39m\u001b[38;5;124mMime type rendering requires nbformat>=4.2.0 but it is not installed\u001b[39m\u001b[38;5;124m\"\u001b[39m\n\u001b[1;32m    427\u001b[0m     )\n\u001b[1;32m    429\u001b[0m display_jupyter_version_warnings()\n\u001b[1;32m    431\u001b[0m ipython_display\u001b[38;5;241m.\u001b[39mdisplay(bundle, raw\u001b[38;5;241m=\u001b[39m\u001b[38;5;28;01mTrue\u001b[39;00m)\n",
            "\u001b[0;31mValueError\u001b[0m: Mime type rendering requires nbformat>=4.2.0 but it is not installed"
          ]
        }
      ],
      "source": [
        "import pandas as pd\n",
        "import plotly.express as px\n",
        "import plotly.graph_objects as go\n",
        "from plotly.subplots import make_subplots\n",
        "\n",
        "# Load dataset\n",
        "df = px.data.gapminder()\n",
        "df_2007 = df[df['year'] == 2007]\n",
        "\n",
        "# Line Chart: GDP per Capita Over Time for Canada\n",
        "canada = df[df['country'] == 'Canada']\n",
        "fig_line = px.line(canada, x='year', y='gdpPercap', title='Canada GDP per Capita Over Time')\n",
        "\n",
        "# Scatter Plot: GDP vs Life Expectancy (2007)\n",
        "fig_scatter = px.scatter(df_2007, x='gdpPercap', y='lifeExp', color='continent',\n",
        "                         title='GDP vs Life Expectancy (2007)')\n",
        "\n",
        "# Bar Chart: Average GDP by Continent (2007)\n",
        "avg_gdp = df_2007.groupby('continent')['gdpPercap'].mean().reset_index()\n",
        "fig_bar = px.bar(avg_gdp, x='continent', y='gdpPercap', title='Average GDP by Continent (2007)')\n",
        "\n",
        "# Pie Chart: Population by Continent (2007)\n",
        "continent_pop = df_2007.groupby('continent')['pop'].sum().reset_index()\n",
        "fig_pie = px.pie(continent_pop, names='continent', values='pop', title='Population by Continent (2007)')\n",
        "\n",
        "# Choropleth: Life Expectancy by Country (2007)\n",
        "fig_choropleth = px.choropleth(df_2007, locations='iso_alpha', color='lifeExp',\n",
        "                               hover_name='country', title='Life Expectancy by Country (2007)',\n",
        "                               color_continuous_scale=px.colors.sequential.Plasma)\n",
        "\n",
        "# Bubble Chart: GDP vs Life Expectancy with Population\n",
        "fig_bubble = px.scatter(df_2007, x='gdpPercap', y='lifeExp', size='pop', color='continent',\n",
        "                        title='GDP vs Life Expectancy with Population Bubbles (2007)', size_max=60)\n",
        "\n",
        "# Doughnut Chart: Population by Continent (2007)\n",
        "fig_doughnut = go.Figure(data=[go.Pie(labels=continent_pop['continent'], values=continent_pop['pop'], hole=0.4)])\n",
        "fig_doughnut.update_layout(title_text='Population by Continent (2007) - Doughnut Chart')\n",
        "\n",
        "# Display all figures\n",
        "fig_line.show()\n",
        "fig_scatter.show()\n",
        "fig_bar.show()\n",
        "fig_pie.show()\n",
        "fig_choropleth.show()\n",
        "fig_bubble.show()\n",
        "fig_doughnut.show()"
      ]
    }
  ],
  "metadata": {
    "colab": {
      "provenance": []
    },
    "kernelspec": {
      "display_name": "Python 3",
      "name": "python3"
    },
    "language_info": {
      "codemirror_mode": {
        "name": "ipython",
        "version": 3
      },
      "file_extension": ".py",
      "mimetype": "text/x-python",
      "name": "python",
      "nbconvert_exporter": "python",
      "pygments_lexer": "ipython3",
      "version": "3.9.6"
    }
  },
  "nbformat": 4,
  "nbformat_minor": 0
}
