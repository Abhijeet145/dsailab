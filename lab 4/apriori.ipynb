{
 "cells": [
  {
   "cell_type": "code",
   "execution_count": 39,
   "metadata": {},
   "outputs": [],
   "source": [
    "from efficient_apriori import apriori\n",
    "transactions = []\n",
    "# Open the file in read mode\n",
    "with open('Market_Basket_Optimisation.csv', 'r') as file:\n",
    "    # Read each line in the file\n",
    "    for line in file:\n",
    "        # Print each line\n",
    "        transaction = []\n",
    "        curr = \"\"\n",
    "        for i in line:\n",
    "            if(i == ','):\n",
    "                transaction.append(curr)\n",
    "                curr = \"\"\n",
    "            else:\n",
    "                curr  = curr + i\n",
    "        transaction.append(curr)\n",
    "        transactions.append(tuple(transaction))\n",
    "\n",
    "\n",
    "# transactions = [('eggs', 'bacon', 'soup'),\n",
    "#                 ('eggs', 'bacon', 'apple'),\n",
    "#                 ('eggs', 'soup', 'banana'),\n",
    "#                 ('soup', 'bacon', 'banana')]\n",
    "itemsets, rules = apriori(transactions, min_support=0.04, min_confidence=0.2)"
   ]
  },
  {
   "cell_type": "code",
   "execution_count": 40,
   "metadata": {},
   "outputs": [
    {
     "name": "stdout",
     "output_type": "stream",
     "text": [
      "{1: {('shrimp',): 518, ('mineral water',): 1625, ('frozen smoothie',): 312, ('burgers',): 633, ('eggs\\n',): 302, ('turkey',): 456, ('milk',): 873, ('whole wheat rice',): 347, ('green tea\\n',): 778, ('low fat yogurt\\n',): 513, ('french fries\\n',): 473, ('soup',): 359, ('frozen vegetables',): 689, ('spaghetti',): 1190, ('eggs',): 1046, ('cookies\\n',): 374, ('chocolate',): 1007, ('chicken',): 402, ('cooking oil',): 313, ('tomatoes',): 482, ('french fries',): 809, ('pancakes',): 512, ('grated cheese',): 371, ('ground beef',): 705, ('escalope\\n',): 305, ('herb & pepper',): 347, ('cake',): 474, ('olive oil',): 425}, 2: {('chocolate', 'mineral water'): 336, ('eggs', 'mineral water'): 326, ('milk', 'mineral water'): 337, ('mineral water', 'spaghetti'): 428}}\n"
     ]
    }
   ],
   "source": [
    "print(itemsets)"
   ]
  },
  {
   "cell_type": "code",
   "execution_count": 41,
   "metadata": {},
   "outputs": [
    {
     "name": "stdout",
     "output_type": "stream",
     "text": [
      "[{mineral water} -> {chocolate}, {chocolate} -> {mineral water}, {mineral water} -> {eggs}, {eggs} -> {mineral water}, {mineral water} -> {milk}, {milk} -> {mineral water}, {spaghetti} -> {mineral water}, {mineral water} -> {spaghetti}]\n"
     ]
    }
   ],
   "source": [
    "print(rules)"
   ]
  },
  {
   "cell_type": "code",
   "execution_count": null,
   "metadata": {},
   "outputs": [],
   "source": []
  }
 ],
 "metadata": {
  "kernelspec": {
   "display_name": "Python 3",
   "language": "python",
   "name": "python3"
  },
  "language_info": {
   "codemirror_mode": {
    "name": "ipython",
    "version": 3
   },
   "file_extension": ".py",
   "mimetype": "text/x-python",
   "name": "python",
   "nbconvert_exporter": "python",
   "pygments_lexer": "ipython3",
   "version": "3.8.10"
  }
 },
 "nbformat": 4,
 "nbformat_minor": 2
}
