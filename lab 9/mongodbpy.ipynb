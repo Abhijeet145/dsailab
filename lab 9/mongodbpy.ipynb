{
 "cells": [
  {
   "cell_type": "code",
   "execution_count": null,
   "metadata": {},
   "outputs": [
    {
     "ename": "",
     "evalue": "",
     "output_type": "error",
     "traceback": [
      "\u001b[1;31mRunning cells with 'Python 3.13.2' requires the ipykernel package.\n",
      "\u001b[1;31m<a href='command:jupyter.createPythonEnvAndSelectController'>Create a Python Environment</a> with the required packages.\n",
      "\u001b[1;31mOr install 'ipykernel' using the command: '/opt/homebrew/bin/python3 -m pip install ipykernel -U --user --force-reinstall'"
     ]
    }
   ],
   "source": [
    "import pandas as pd\n",
    "from pymongo import MongoClient\n",
    "from sklearn.preprocessing import LabelEncoder\n",
    "from sklearn.model_selection import train_test_split\n",
    "from sklearn.linear_model import LinearRegression\n",
    "from sklearn.metrics import mean_absolute_error, r2_score\n",
    "\n",
    "#   Connect to MongoDB\n",
    "client = MongoClient(\"mongodb://localhost:27017/\")\n",
    "db = client[\"company\"]\n",
    "collection = db[\"employees\"]\n",
    "\n",
    "#   Retrieve data from MongoDB\n",
    "employees = list(collection.find({}, {\"_id\": 0, \"name\": 1, \"age\": 1, \"department\": 1}))\n",
    "\n",
    "#   Convert to Pandas DataFrame\n",
    "df = pd.DataFrame(employees)\n",
    "print(\"Original Data:\\n\", df.head())\n",
    "\n",
    "#   Encode 'department' column using LabelEncoder\n",
    "label_encoder = LabelEncoder()\n",
    "df[\"department_encoded\"] = label_encoder.fit_transform(df[\"department\"])\n",
    "\n",
    "#   Prepare features (X) and target variable (y)\n",
    "X = df[[\"department_encoded\"]]  # Feature: Encoded department\n",
    "y = df[\"age\"]  # Target: Age\n",
    "\n",
    "#   Split dataset into training (80%) and testing (20%)\n",
    "X_train, X_test, y_train, y_test = train_test_split(X, y, test_size=0.2, random_state=42)\n",
    "\n",
    "#   Train a Linear Regression model\n",
    "model = LinearRegression()\n",
    "model.fit(X_train, y_train)\n",
    "\n",
    "#   Make predictions\n",
    "y_pred = model.predict(X_test)\n",
    "\n",
    "#   Evaluate the model\n",
    "mae = mean_absolute_error(y_test, y_pred)\n",
    "r2 = r2_score(y_test, y_pred)\n",
    "\n",
    "print(\"\\n Model Performance:\")\n",
    "print(f\"Mean Absolute Error: {mae:.2f}\")\n",
    "print(f\"R² Score: {r2:.2f}\")\n",
    "\n",
    "#   Display encoding mappings\n",
    "print(\"\\n Department Encoding:\")\n",
    "for dept, code in zip(label_encoder.classes_, label_encoder.transform(label_encoder.classes_)):\n",
    "    print(f\"{dept}: {code}\")\n"
   ]
  },
  {
   "cell_type": "code",
   "execution_count": null,
   "metadata": {},
   "outputs": [],
   "source": []
  }
 ],
 "metadata": {
  "kernelspec": {
   "display_name": "Python 3",
   "language": "python",
   "name": "python3"
  },
  "language_info": {
   "codemirror_mode": {
    "name": "ipython",
    "version": 3
   },
   "file_extension": ".py",
   "mimetype": "text/x-python",
   "name": "python",
   "nbconvert_exporter": "python",
   "pygments_lexer": "ipython3",
   "version": "3.9.6"
  }
 },
 "nbformat": 4,
 "nbformat_minor": 2
}
